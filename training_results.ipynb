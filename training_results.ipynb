{
 "cells": [
  {
   "cell_type": "code",
   "execution_count": 3,
   "metadata": {},
   "outputs": [],
   "source": [
    "import pandas as pd\n",
    "import numpy as np\n",
    "import scipy.stats as stats\n",
    "import tensorboard as tb\n",
    "from tensorboard.backend.event_processing.event_accumulator import EventAccumulator"
   ]
  },
  {
   "cell_type": "markdown",
   "metadata": {},
   "source": [
    "# Results\n",
    "This notebook will preset the results of training the OP-Deepdive model on comma2k19 and custom CARLA datasets in the same format. The results are metrics of the evaluation dataset of the last epoch of training. "
   ]
  },
  {
   "cell_type": "code",
   "execution_count": 5,
   "metadata": {},
   "outputs": [],
   "source": [
    "def extract_scalars(logdir):\n",
    "    event_acc = EventAccumulator(logdir)\n",
    "    event_acc.Reload()\n",
    "    tags = event_acc.Tags()['scalars']\n",
    "    scalars = {tag: [(s.step, s.value) for s in event_acc.Scalars(tag)] for tag in tags}\n",
    "    return scalars\n",
    "opd_comma2k19_adamw = extract_scalars('runs/opd_comma2k19_adamw')"
   ]
  },
  {
   "cell_type": "code",
   "execution_count": 9,
   "metadata": {},
   "outputs": [
    {
     "data": {
      "text/plain": [
       "{'train/epoch': 10000,\n",
       " 'loss/cls': 10000,\n",
       " 'loss/reg': 10000,\n",
       " 'loss/reg_x': 10000,\n",
       " 'loss/reg_y': 10000,\n",
       " 'loss/reg_z': 10000,\n",
       " 'param/lr': 10000,\n",
       " 'loss/total': 10000,\n",
       " 'val/AP_0_10_0.5': 100,\n",
       " 'val/AP_0_10_1': 100,\n",
       " 'val/AP_0_10_2': 100,\n",
       " 'val/AP_10_20_0.5': 100,\n",
       " 'val/AP_10_20_1': 100,\n",
       " 'val/AP_10_20_2': 100,\n",
       " 'val/AP_20_30_0.5': 100,\n",
       " 'val/AP_20_30_1': 100,\n",
       " 'val/AP_20_30_2': 100,\n",
       " 'val/AP_30_50_0.5': 100,\n",
       " 'val/AP_30_50_1': 100,\n",
       " 'val/AP_30_50_2': 100,\n",
       " 'val/AP_50_1000_0.5': 100,\n",
       " 'val/AP_50_1000_1': 100,\n",
       " 'val/AP_50_1000_2': 100,\n",
       " 'val/cls_acc': 100,\n",
       " 'val/eucliden_0_10': 100,\n",
       " 'val/eucliden_10_20': 100,\n",
       " 'val/eucliden_20_30': 100,\n",
       " 'val/eucliden_30_50': 100,\n",
       " 'val/eucliden_50_1000': 100,\n",
       " 'val/eucliden_x_0_10': 100,\n",
       " 'val/eucliden_x_10_20': 100,\n",
       " 'val/eucliden_x_20_30': 100,\n",
       " 'val/eucliden_x_30_50': 100,\n",
       " 'val/eucliden_x_50_1000': 100,\n",
       " 'val/eucliden_y_0_10': 100,\n",
       " 'val/eucliden_y_10_20': 100,\n",
       " 'val/eucliden_y_20_30': 100,\n",
       " 'val/eucliden_y_30_50': 100,\n",
       " 'val/eucliden_y_50_1000': 100,\n",
       " 'val/l2_dist': 100,\n",
       " 'val/total_loss': 100}"
      ]
     },
     "execution_count": 9,
     "metadata": {},
     "output_type": "execute_result"
    }
   ],
   "source": [
    "def get_dict_len(dic):\n",
    "    if isinstance(dic, dict):\n",
    "        return {k: get_dict_len(v) for k, v in dic.items()}\n",
    "    elif isinstance(dic, list):\n",
    "        return len(dic)\n",
    "    else:\n",
    "        print(\"Else\", type(dic))\n",
    "        return len(dic)\n",
    "get_dict_len(opd_comma2k19_adamw)\n",
    "    "
   ]
  },
  {
   "cell_type": "code",
   "execution_count": 10,
   "metadata": {},
   "outputs": [],
   "source": [
    "dfs_opd_comma2k19_adamw = {k: pd.DataFrame(v, columns=['step', k]) for k, v in opd_comma2k19_adamw.items()}"
   ]
  },
  {
   "cell_type": "code",
   "execution_count": 44,
   "metadata": {},
   "outputs": [],
   "source": [
    "from typing import Dict\n",
    "\n",
    "def smooth_df(df: pd.DataFrame, window=10):\n",
    "    # return df\n",
    "    return df.rolling(window=window).mean()\n",
    "\n",
    "def plot_graphs(df_dict: Dict[str, pd.DataFrame], *graphs, avg_per_step:list = list()):\n",
    "    graphs = [df_dict[g] for g in graphs]\n",
    "    step = avg_per_step[0] if len(avg_per_step) > 1 else 1\n",
    "    ax = smooth_df(graphs[0], window=step).plot(x='step', y=graphs[0].columns[1])\n",
    "    for i, g in enumerate(graphs[1:], start=1):\n",
    "        step = avg_per_step[i] if len(avg_per_step) > i else 1\n",
    "        smooth_df(g, window=step).plot(x='step', y=g.columns[1], ax=ax)"
   ]
  },
  {
   "cell_type": "code",
   "execution_count": 70,
   "metadata": {},
   "outputs": [],
   "source": [
    "\n",
    "from typing import Any, Dict, List\n",
    "\n",
    "\n",
    "def compute_stats(cell: List[float]):\n",
    "    mean = np.mean(cell)\n",
    "    std = np.std(cell)\n",
    "    # Using t-distribution because sample size is small, being < 30\n",
    "    ci = stats.t.interval(0.95, len(cell)-1, loc=mean, scale=std)\n",
    "    mean_round = round(mean, 3)\n",
    "    ci1_round = round(ci[0], 3)\n",
    "    ci2_round = round(ci[1], 3)\n",
    "    return f\"{mean_round} (CI: [{ci1_round}, {ci2_round}])\"\n",
    "\n",
    "def group_per(dic: Dict[str, Any], groups: List[str]):\n",
    "\n",
    "    results = {group: dict() for group in groups}\n",
    "    for group in groups:\n",
    "        for key, item in dic.items():\n",
    "            if group in key:\n",
    "                colname = key.replace(group, \"\")\n",
    "                results[group][colname] = item\n",
    "    return results"
   ]
  },
  {
   "cell_type": "code",
   "execution_count": 52,
   "metadata": {},
   "outputs": [
    {
     "data": {
      "text/plain": [
       "dict_keys(['train/epoch', 'loss/cls', 'loss/reg', 'loss/reg_x', 'loss/reg_y', 'loss/reg_z', 'param/lr', 'loss/total', 'val/AP_0_10_0.5', 'val/AP_0_10_1', 'val/AP_0_10_2', 'val/AP_10_20_0.5', 'val/AP_10_20_1', 'val/AP_10_20_2', 'val/AP_20_30_0.5', 'val/AP_20_30_1', 'val/AP_20_30_2', 'val/AP_30_50_0.5', 'val/AP_30_50_1', 'val/AP_30_50_2', 'val/AP_50_1000_0.5', 'val/AP_50_1000_1', 'val/AP_50_1000_2', 'val/cls_acc', 'val/eucliden_0_10', 'val/eucliden_10_20', 'val/eucliden_20_30', 'val/eucliden_30_50', 'val/eucliden_50_1000', 'val/eucliden_x_0_10', 'val/eucliden_x_10_20', 'val/eucliden_x_20_30', 'val/eucliden_x_30_50', 'val/eucliden_x_50_1000', 'val/eucliden_y_0_10', 'val/eucliden_y_10_20', 'val/eucliden_y_20_30', 'val/eucliden_y_30_50', 'val/eucliden_y_50_1000', 'val/l2_dist', 'val/total_loss'])"
      ]
     },
     "execution_count": 52,
     "metadata": {},
     "output_type": "execute_result"
    }
   ],
   "source": [
    "dfs_opd_comma2k19_adamw.keys()"
   ]
  },
  {
   "cell_type": "code",
   "execution_count": 51,
   "metadata": {},
   "outputs": [
    {
     "data": {
      "image/png": "[encoded data removed]",
      "text/plain": [
       "<Figure size 640x480 with 1 Axes>"
      ]
     },
     "metadata": {},
     "output_type": "display_data"
    }
   ],
   "source": [
    "# dfs_opd_comma2k19_adamw[\"val/total_loss\"].plot(x='step', y='val/total_loss', title='OPD Comma2k19 AdamW Loss')\n",
    "plot_graphs(dfs_opd_comma2k19_adamw, \"loss/total\", 'val/total_loss', avg_per_step=[100, 1])"
   ]
  },
  {
   "cell_type": "code",
   "execution_count": 63,
   "metadata": {},
   "outputs": [
    {
     "data": {
      "text/html": [
       "<div>\n",
       "<style scoped>\n",
       "    .dataframe tbody tr th:only-of-type {\n",
       "        vertical-align: middle;\n",
       "    }\n",
       "\n",
       "    .dataframe tbody tr th {\n",
       "        vertical-align: top;\n",
       "    }\n",
       "\n",
       "    .dataframe thead th {\n",
       "        text-align: right;\n",
       "    }\n",
       "</style>\n",
       "<table border=\"1\" class=\"dataframe\">\n",
       "  <thead>\n",
       "    <tr style=\"text-align: right;\">\n",
       "      <th></th>\n",
       "      <th>step</th>\n",
       "      <th>val/total_loss</th>\n",
       "    </tr>\n",
       "  </thead>\n",
       "  <tbody>\n",
       "    <tr>\n",
       "      <th>90</th>\n",
       "      <td>2475200</td>\n",
       "      <td>2.941633</td>\n",
       "    </tr>\n",
       "    <tr>\n",
       "      <th>91</th>\n",
       "      <td>2502400</td>\n",
       "      <td>2.805128</td>\n",
       "    </tr>\n",
       "    <tr>\n",
       "      <th>92</th>\n",
       "      <td>2529600</td>\n",
       "      <td>2.884078</td>\n",
       "    </tr>\n",
       "    <tr>\n",
       "      <th>93</th>\n",
       "      <td>2556800</td>\n",
       "      <td>2.890791</td>\n",
       "    </tr>\n",
       "    <tr>\n",
       "      <th>94</th>\n",
       "      <td>2584000</td>\n",
       "      <td>2.887805</td>\n",
       "    </tr>\n",
       "    <tr>\n",
       "      <th>95</th>\n",
       "      <td>2611200</td>\n",
       "      <td>2.819796</td>\n",
       "    </tr>\n",
       "    <tr>\n",
       "      <th>96</th>\n",
       "      <td>2638400</td>\n",
       "      <td>2.907580</td>\n",
       "    </tr>\n",
       "    <tr>\n",
       "      <th>97</th>\n",
       "      <td>2665600</td>\n",
       "      <td>2.768993</td>\n",
       "    </tr>\n",
       "    <tr>\n",
       "      <th>98</th>\n",
       "      <td>2692800</td>\n",
       "      <td>2.875021</td>\n",
       "    </tr>\n",
       "    <tr>\n",
       "      <th>99</th>\n",
       "      <td>2720000</td>\n",
       "      <td>2.935185</td>\n",
       "    </tr>\n",
       "  </tbody>\n",
       "</table>\n",
       "</div>"
      ],
      "text/plain": [
       "       step  val/total_loss\n",
       "90  2475200        2.941633\n",
       "91  2502400        2.805128\n",
       "92  2529600        2.884078\n",
       "93  2556800        2.890791\n",
       "94  2584000        2.887805\n",
       "95  2611200        2.819796\n",
       "96  2638400        2.907580\n",
       "97  2665600        2.768993\n",
       "98  2692800        2.875021\n",
       "99  2720000        2.935185"
      ]
     },
     "execution_count": 63,
     "metadata": {},
     "output_type": "execute_result"
    }
   ],
   "source": [
    "dfs_opd_comma2k19_adamw[\"val/total_loss\"][]"
   ]
  },
  {
   "cell_type": "code",
   "execution_count": 77,
   "metadata": {},
   "outputs": [],
   "source": [
    "\n",
    "def create_table(dfs: Dict[str, pd.DataFrame]):\n",
    "    columns = ['val/AP_0_10_0.5', 'val/AP_0_10_1', 'val/AP_0_10_2', 'val/AP_10_20_0.5', 'val/AP_10_20_1', 'val/AP_10_20_2', 'val/AP_20_30_0.5', 'val/AP_20_30_1', 'val/AP_20_30_2', 'val/AP_30_50_0.5', 'val/AP_30_50_1', 'val/AP_30_50_2', 'val/AP_50_1000_0.5', 'val/AP_50_1000_1', 'val/AP_50_1000_2', 'val/eucliden_0_10', 'val/eucliden_10_20', 'val/eucliden_20_30', 'val/eucliden_30_50', 'val/eucliden_50_1000', 'val/eucliden_x_0_10', 'val/eucliden_x_10_20', 'val/eucliden_x_20_30', 'val/eucliden_x_30_50', 'val/eucliden_x_50_1000', 'val/eucliden_y_0_10', 'val/eucliden_y_10_20', 'val/eucliden_y_20_30', 'val/eucliden_y_30_50', 'val/eucliden_y_50_1000']\n",
    "    last_values = {c: round(float(dfs[c][c].iloc[-1]), 3) for c in columns}\n",
    "    rename_dict = {\n",
    "        \"val/AP_0.5\": \"AP@0.5\",\n",
    "        \"val/AP_1\": \"AP@1\",\n",
    "        \"val/AP_2\": \"AP@2\",\n",
    "        \"val/eucliden\": \"ED\",\n",
    "        \"val/eucliden_x\": \"ED x\",\n",
    "        \"val/eucliden_y\": \"ED y\",\n",
    "    }\n",
    "    index = [\"0-10\", \"10-20\", \"20-30\", \"30-50\", \"50+\"]\n",
    "    gruoped = group_per(last_values, [\"_0_10\", \"_10_20\", \"_20_30\", \"_30_50\", \"_50_1000\"])\n",
    "    df = pd.DataFrame.from_dict(gruoped, orient='index').rename(columns=rename_dict)\n",
    "    df.index = index\n",
    "    # swithc aps and eds\n",
    "    return df[[ 'ED', 'ED x', 'ED y','AP@0.5', 'AP@1', 'AP@2']]\n",
    "    # rename row groups\n",
    "    \n",
    "table = create_table(dfs_opd_comma2k19_adamw)\n",
    "table.to_csv(\"opd_comma2k19_adamw.csv\")"
   ]
  },
  {
   "cell_type": "markdown",
   "metadata": {},
   "source": [
    "## Comma2k19"
   ]
  },
  {
   "cell_type": "code",
   "execution_count": 3,
   "metadata": {},
   "outputs": [],
   "source": [
    "# [feb18, florian, may16]\n",
    "\n",
    "# AP 0-10\n",
    "ap_0_10_05 = [0.6436, 0.6297, 0.6734] \n",
    "ap_0_10_1 = [0.8499, 0.8190, 0.8576]\n",
    "ap_0_10_2 = [0.9556, 0.9243, 0.9487]\n",
    "\n",
    "# AP 10-20\n",
    "ap_10_20_05 = [0.2075, 0.1986, 0.2154]\n",
    "ap_10_20_1 = [0.4913, 0.4637, 0.4881]\n",
    "ap_10_20_2 = [0.7680, 0.7327, 0.7620]\n",
    "\n",
    "# AP 20-30\n",
    "ap_20_30_05 = [0.08346, 0.04965, 0.07997]\n",
    "ap_20_30_1 = [0.2668, 0.2455, 0.2693]\n",
    "ap_20_30_2 = [0.5698, 0.54, 0.5557]\n",
    "\n",
    "# AP 30-50\n",
    "ap_30_50_05 = [0.03291, 0.01189, 0.02304]\n",
    "ap_30_50_1 = [0.1183, 0.08747, 0.119]\n",
    "ap_30_50_2 = [0.356, 0.3201, 0.3557]\n",
    "\n",
    "# AP 50+\n",
    "ap_50_05 = [0.002186, 0.000456, 0.000691]\n",
    "ap_50_1 = [0.01151, 0.003136, 0.00771]\n",
    "ap_50_2 = [0.04265, 0.02185, 0.04174]\n",
    "\n",
    "\n",
    "# Euclidian\n",
    "euclidian_0_10 = [0.6571, 0.9024, 0.6974]\n",
    "euclidian_x_0_10 = [0.643, 0.8872, 0.6791]\n",
    "euclidian_y_0_10 = [0.05289, 0.05678, 0.06512]\n",
    "\n",
    "euclidian_10_20 = [1.911, 2.3, 1.916]\n",
    "euclidian_x_10_20 = [1.81, 2.207, 1.815]\n",
    "euclidian_y_10_20 = [0.2751, 0.2579, 0.273]\n",
    "\n",
    "euclidian_20_30 = [3.106, 3.642, 3.137]\n",
    "euclidian_x_20_30 = [2.917, 3.463, 2.956]\n",
    "euclidian_y_20_30 = [0.4867, 0.4738, 0.4698]\n",
    "\n",
    "euclidian_30_50 = [4.9, 5.729, 4.912]\n",
    "euclidian_x_30_50 = [4.569, 5.382, 4.591]\n",
    "euclidian_y_30_50 = [0.8395, 0.8965, 0.8123]\n",
    "\n",
    "euclidian_50 = [19.06, 24.5, 18.79]\n",
    "euclidian_x_50 = [14.6, 20.63, 14.25]\n",
    "euclidian_y_50 = [0.8395, 0.8965, 0.8123]\n",
    "# Euclidian x\n",
    "\n",
    "# Euclidian y\n",
    "\n"
   ]
  },
  {
   "cell_type": "code",
   "execution_count": 4,
   "metadata": {},
   "outputs": [
    {
     "data": {
      "text/plain": [
       "30"
      ]
     },
     "execution_count": 4,
     "metadata": {},
     "output_type": "execute_result"
    }
   ],
   "source": [
    "comma2k19_results = {\n",
    "    \"ap_0_10_05\": [0.6436, 0.6297, 0.6734],\n",
    "    \"ap_0_10_1\": [0.8499, 0.8190, 0.8576],\n",
    "    \"ap_0_10_2\": [0.9556, 0.9243, 0.9487],\n",
    "    \"ap_10_20_05\": [0.2075, 0.1986, 0.2154],\n",
    "    \"ap_10_20_1\": [0.4913, 0.4637, 0.4881],\n",
    "    \"ap_10_20_2\": [0.7680, 0.7327, 0.7620],\n",
    "    \"ap_20_30_05\": [0.08346, 0.04965, 0.07997],\n",
    "    \"ap_20_30_1\": [0.2668, 0.2455, 0.2693],\n",
    "    \"ap_20_30_2\": [0.5698, 0.54, 0.5557],\n",
    "    \"ap_30_50_05\": [0.03291, 0.01189, 0.02304],\n",
    "    \"ap_30_50_1\": [0.1183, 0.08747, 0.119],\n",
    "    \"ap_30_50_2\": [0.356, 0.3201, 0.3557],\n",
    "    \"ap_50p_05\": [0.002186, 0.000456, 0.000691],\n",
    "    \"ap_50p_1\": [0.01151, 0.003136, 0.00771],\n",
    "    \"ap_50p_2\": [0.04265, 0.02185, 0.04174],\n",
    "    \"euclidian_0_10\": [0.6571, 0.9024, 0.6974],\n",
    "    \"euclidian_x_0_10\": [0.643, 0.8872, 0.6791],\n",
    "    \"euclidian_y_0_10\": [0.05289, 0.05678, 0.06512],\n",
    "    \"euclidian_10_20\": [1.911, 2.3, 1.916],\n",
    "    \"euclidian_x_10_20\": [1.81, 2.207, 1.815],\n",
    "    \"euclidian_y_10_20\": [0.2751, 0.2579, 0.273],\n",
    "    \"euclidian_20_30\": [3.106, 3.642, 3.137],\n",
    "    \"euclidian_x_20_30\": [2.917, 3.463, 2.956],\n",
    "    \"euclidian_y_20_30\": [0.4867, 0.4738, 0.4698],\n",
    "    \"euclidian_30_50\": [4.9, 5.729, 4.912],\n",
    "    \"euclidian_x_30_50\": [4.569, 5.382, 4.591],\n",
    "    \"euclidian_y_30_50\": [0.8395, 0.8965, 0.8123],\n",
    "    \"euclidian_50p\": [19.06, 24.5, 18.79],\n",
    "    \"euclidian_x_50p\": [14.6, 20.63, 14.25],\n",
    "    \"euclidian_y_50p\": [0.8395, 0.8965, 0.8123]\n",
    "}\n",
    "comma2k19_results.keys().__len__()"
   ]
  },
  {
   "cell_type": "code",
   "execution_count": null,
   "metadata": {},
   "outputs": [],
   "source": [
    "\n",
    "comma2k19_adamw_results = {\n",
    "    \"ap_0_10_05\": [0.6436, 0.6297, 0.6734],\n",
    "    \"ap_0_10_1\": [0.8499, 0.8190, 0.8576],\n",
    "    \"ap_0_10_2\": [0.9556, 0.9243, 0.9487],\n",
    "    \"ap_10_20_05\": [0.2075, 0.1986, 0.2154],\n",
    "    \"ap_10_20_1\": [0.4913, 0.4637, 0.4881],\n",
    "    \"ap_10_20_2\": [0.7680, 0.7327, 0.7620],\n",
    "    \"ap_20_30_05\": [0.08346, 0.04965, 0.07997],\n",
    "    \"ap_20_30_1\": [0.2668, 0.2455, 0.2693],\n",
    "    \"ap_20_30_2\": [0.5698, 0.54, 0.5557],\n",
    "    \"ap_30_50_05\": [0.03291, 0.01189, 0.02304],\n",
    "    \"ap_30_50_1\": [0.1183, 0.08747, 0.119],\n",
    "    \"ap_30_50_2\": [0.356, 0.3201, 0.3557],\n",
    "    \"ap_50p_05\": [0.002186, 0.000456, 0.000691],\n",
    "    \"ap_50p_1\": [0.01151, 0.003136, 0.00771],\n",
    "    \"ap_50p_2\": [0.04265, 0.02185, 0.04174],\n",
    "    \"euclidian_0_10\": [0.6571, 0.9024, 0.6974],\n",
    "    \"euclidian_x_0_10\": [0.643, 0.8872, 0.6791],\n",
    "    \"euclidian_y_0_10\": [0.05289, 0.05678, 0.06512],\n",
    "    \"euclidian_10_20\": [1.911, 2.3, 1.916],\n",
    "    \"euclidian_x_10_20\": [1.81, 2.207, 1.815],\n",
    "    \"euclidian_y_10_20\": [0.2751, 0.2579, 0.273],\n",
    "    \"euclidian_20_30\": [3.106, 3.642, 3.137],\n",
    "    \"euclidian_x_20_30\": [2.917, 3.463, 2.956],\n",
    "    \"euclidian_y_20_30\": [0.4867, 0.4738, 0.4698],\n",
    "    \"euclidian_30_50\": [4.9, 5.729, 4.912],\n",
    "    \"euclidian_x_30_50\": [4.569, 5.382, 4.591],\n",
    "    \"euclidian_y_30_50\": [0.8395, 0.8965, 0.8123],\n",
    "    \"euclidian_50p\": [19.06, 24.5, 18.79],\n",
    "    \"euclidian_x_50p\": [14.6, 20.63, 14.25],\n",
    "    \"euclidian_y_50p\": [0.8395, 0.8965, 0.8123]\n",
    "}\n",
    "comma2k19_results.keys().__len__()"
   ]
  },
  {
   "cell_type": "code",
   "execution_count": 5,
   "metadata": {},
   "outputs": [],
   "source": [
    "# CARLA 1 (all Towns), CARLA 2 (only Town04 and Town06)\n",
    "# feb25, may09\n",
    "carla_results = {\n",
    "    \"ap_0_10_05\": [0.3392, 0.3516],\n",
    "    \"ap_0_10_1\": [0.5157, 0.5124],\n",
    "    \"ap_0_10_2\": [0.7225, 0.7376],\n",
    "    \"ap_10_20_05\": [0.0387, 0.02483],\n",
    "    \"ap_10_20_1\": [0.08629, 0.05404],\n",
    "    \"ap_10_20_2\": [0.1833, 0.1226],\n",
    "    \"ap_20_30_05\": [0.02125, 0.01245],\n",
    "    \"ap_20_30_1\": [0.04853, 0.02728],\n",
    "    \"ap_20_30_2\": [0.1066, 0.06406],\n",
    "    \"ap_30_50_05\": [0.01408, 0.007316],\n",
    "    \"ap_30_50_1\": [0.03369, 0.0158],\n",
    "    \"ap_30_50_2\": [0.07324, 0.03613],\n",
    "    \"ap_50p_05\": [0.004614, 0.003209],\n",
    "    \"ap_50p_1\": [0.01515, 0.006798],\n",
    "    \"ap_50p_2\": [0.03512, 0.0146],\n",
    "    \"euclidian_0_10\": [2.541, 2.009],\n",
    "    \"euclidian_x_0_10\": [2.281, 1.915],\n",
    "    \"euclidian_y_0_10\": [0.479, 0.1826],\n",
    "    \"euclidian_10_20\": [9.043, 8.883],\n",
    "    \"euclidian_x_10_20\": [7.214, 8.412],\n",
    "    \"euclidian_y_10_20\": [3.079, 0.9382],\n",
    "    \"euclidian_20_30\": [12.18, 14.72],\n",
    "    \"euclidian_x_20_30\": [10.34, 14.11],\n",
    "    \"euclidian_y_20_30\": [3.507, 1.583],\n",
    "    \"euclidian_30_50\": [17.95, 23.69],\n",
    "    \"euclidian_x_30_50\": [15.76, 22.52],\n",
    "    \"euclidian_y_30_50\": [4.641, 3.357],\n",
    "    \"euclidian_50p\": [34.04, 56.54],\n",
    "    \"euclidian_x_50p\": [27.93, 52.72],\n",
    "    \"euclidian_y_50p\": [11.77, 12.69]\n",
    "}"
   ]
  },
  {
   "cell_type": "code",
   "execution_count": 6,
   "metadata": {},
   "outputs": [],
   "source": [
    "# "
   ]
  },
  {
   "cell_type": "code",
   "execution_count": 7,
   "metadata": {},
   "outputs": [],
   "source": [
    "groups = [\"0_10\", \"10_20\", \"20_30\", \"30_50\", \"50p\"]\n",
    "index = [\"0-10\", \"10-20\", \"20-30\", \"30-50\", \"50+\"]\n",
    "columns = [\"AP@0.5\", \"AP@1\", \"AP@2\", \"ED\", \"ED x\", \"ED y\"]"
   ]
  },
  {
   "cell_type": "code",
   "execution_count": 8,
   "metadata": {},
   "outputs": [],
   "source": [
    "aps = [\"AP@0.5\", \"AP@1\", \"AP@2\"]\n",
    "eds = [\"ED\", \"ED x\", \"ED y\"]"
   ]
  },
  {
   "cell_type": "code",
   "execution_count": 9,
   "metadata": {},
   "outputs": [
    {
     "name": "stdout",
     "output_type": "stream",
     "text": [
      "{'0_10': {'ap__05': '0.649 (CI: [0.57, 0.727])', 'ap__1': '0.842 (CI: [0.77, 0.914])', 'ap__2': '0.943 (CI: [0.885, 1.001])', 'euclidian_': '0.752 (CI: [0.29, 1.214])', 'euclidian_x_': '0.736 (CI: [0.273, 1.199])', 'euclidian_y_': '0.058 (CI: [0.036, 0.08])'}, '10_20': {'ap__05': '0.207 (CI: [0.178, 0.237])', 'ap__1': '0.481 (CI: [0.428, 0.534])', 'ap__2': '0.754 (CI: [0.688, 0.821])', 'euclidian_': '2.042 (CI: [1.258, 2.826])', 'euclidian_x_': '1.944 (CI: [1.144, 2.744])', 'euclidian_y_': '0.269 (CI: [0.236, 0.302])'}, '20_30': {'ap__05': '0.071 (CI: [0.006, 0.136])', 'ap__1': '0.261 (CI: [0.215, 0.306])', 'ap__2': '0.555 (CI: [0.503, 0.608])', 'euclidian_': '3.295 (CI: [2.238, 4.352])', 'euclidian_x_': '3.112 (CI: [2.042, 4.182])', 'euclidian_y_': '0.477 (CI: [0.446, 0.508])'}, '30_50': {'ap__05': '0.023 (CI: [-0.014, 0.06])', 'ap__1': '0.108 (CI: [0.045, 0.172])', 'ap__2': '0.344 (CI: [0.271, 0.416])', 'euclidian_': '5.18 (CI: [3.511, 6.85])', 'euclidian_x_': '4.847 (CI: [3.22, 6.474])', 'euclidian_y_': '0.849 (CI: [0.698, 1.0])'}, '50p': {'ap__05': '0.001 (CI: [-0.002, 0.004])', 'ap__1': '0.007 (CI: [-0.007, 0.022])', 'ap__2': '0.035 (CI: [-0.006, 0.077])', 'euclidian_': '20.783 (CI: [9.466, 32.101])', 'euclidian_x_': '16.493 (CI: [3.893, 29.094])', 'euclidian_y_': '0.849 (CI: [0.698, 1.0])'}}\n"
     ]
    },
    {
     "data": {
      "text/html": [
       "<div>\n",
       "<style scoped>\n",
       "    .dataframe tbody tr th:only-of-type {\n",
       "        vertical-align: middle;\n",
       "    }\n",
       "\n",
       "    .dataframe tbody tr th {\n",
       "        vertical-align: top;\n",
       "    }\n",
       "\n",
       "    .dataframe thead th {\n",
       "        text-align: right;\n",
       "    }\n",
       "</style>\n",
       "<table border=\"1\" class=\"dataframe\">\n",
       "  <thead>\n",
       "    <tr style=\"text-align: right;\">\n",
       "      <th></th>\n",
       "      <th>AP@0.5</th>\n",
       "      <th>AP@1</th>\n",
       "      <th>AP@2</th>\n",
       "      <th>ED</th>\n",
       "      <th>ED x</th>\n",
       "      <th>ED y</th>\n",
       "    </tr>\n",
       "  </thead>\n",
       "  <tbody>\n",
       "    <tr>\n",
       "      <th>0-10</th>\n",
       "      <td>0.649 (CI: [0.57, 0.727])</td>\n",
       "      <td>0.842 (CI: [0.77, 0.914])</td>\n",
       "      <td>0.943 (CI: [0.885, 1.001])</td>\n",
       "      <td>0.752 (CI: [0.29, 1.214])</td>\n",
       "      <td>0.736 (CI: [0.273, 1.199])</td>\n",
       "      <td>0.058 (CI: [0.036, 0.08])</td>\n",
       "    </tr>\n",
       "    <tr>\n",
       "      <th>10-20</th>\n",
       "      <td>0.207 (CI: [0.178, 0.237])</td>\n",
       "      <td>0.481 (CI: [0.428, 0.534])</td>\n",
       "      <td>0.754 (CI: [0.688, 0.821])</td>\n",
       "      <td>2.042 (CI: [1.258, 2.826])</td>\n",
       "      <td>1.944 (CI: [1.144, 2.744])</td>\n",
       "      <td>0.269 (CI: [0.236, 0.302])</td>\n",
       "    </tr>\n",
       "    <tr>\n",
       "      <th>20-30</th>\n",
       "      <td>0.071 (CI: [0.006, 0.136])</td>\n",
       "      <td>0.261 (CI: [0.215, 0.306])</td>\n",
       "      <td>0.555 (CI: [0.503, 0.608])</td>\n",
       "      <td>3.295 (CI: [2.238, 4.352])</td>\n",
       "      <td>3.112 (CI: [2.042, 4.182])</td>\n",
       "      <td>0.477 (CI: [0.446, 0.508])</td>\n",
       "    </tr>\n",
       "    <tr>\n",
       "      <th>30-50</th>\n",
       "      <td>0.023 (CI: [-0.014, 0.06])</td>\n",
       "      <td>0.108 (CI: [0.045, 0.172])</td>\n",
       "      <td>0.344 (CI: [0.271, 0.416])</td>\n",
       "      <td>5.18 (CI: [3.511, 6.85])</td>\n",
       "      <td>4.847 (CI: [3.22, 6.474])</td>\n",
       "      <td>0.849 (CI: [0.698, 1.0])</td>\n",
       "    </tr>\n",
       "    <tr>\n",
       "      <th>50+</th>\n",
       "      <td>0.001 (CI: [-0.002, 0.004])</td>\n",
       "      <td>0.007 (CI: [-0.007, 0.022])</td>\n",
       "      <td>0.035 (CI: [-0.006, 0.077])</td>\n",
       "      <td>20.783 (CI: [9.466, 32.101])</td>\n",
       "      <td>16.493 (CI: [3.893, 29.094])</td>\n",
       "      <td>0.849 (CI: [0.698, 1.0])</td>\n",
       "    </tr>\n",
       "  </tbody>\n",
       "</table>\n",
       "</div>"
      ],
      "text/plain": [
       "                            AP@0.5                         AP@1  \\\n",
       "0-10     0.649 (CI: [0.57, 0.727])    0.842 (CI: [0.77, 0.914])   \n",
       "10-20   0.207 (CI: [0.178, 0.237])   0.481 (CI: [0.428, 0.534])   \n",
       "20-30   0.071 (CI: [0.006, 0.136])   0.261 (CI: [0.215, 0.306])   \n",
       "30-50   0.023 (CI: [-0.014, 0.06])   0.108 (CI: [0.045, 0.172])   \n",
       "50+    0.001 (CI: [-0.002, 0.004])  0.007 (CI: [-0.007, 0.022])   \n",
       "\n",
       "                              AP@2                            ED  \\\n",
       "0-10    0.943 (CI: [0.885, 1.001])     0.752 (CI: [0.29, 1.214])   \n",
       "10-20   0.754 (CI: [0.688, 0.821])    2.042 (CI: [1.258, 2.826])   \n",
       "20-30   0.555 (CI: [0.503, 0.608])    3.295 (CI: [2.238, 4.352])   \n",
       "30-50   0.344 (CI: [0.271, 0.416])      5.18 (CI: [3.511, 6.85])   \n",
       "50+    0.035 (CI: [-0.006, 0.077])  20.783 (CI: [9.466, 32.101])   \n",
       "\n",
       "                               ED x                        ED y  \n",
       "0-10     0.736 (CI: [0.273, 1.199])   0.058 (CI: [0.036, 0.08])  \n",
       "10-20    1.944 (CI: [1.144, 2.744])  0.269 (CI: [0.236, 0.302])  \n",
       "20-30    3.112 (CI: [2.042, 4.182])  0.477 (CI: [0.446, 0.508])  \n",
       "30-50     4.847 (CI: [3.22, 6.474])    0.849 (CI: [0.698, 1.0])  \n",
       "50+    16.493 (CI: [3.893, 29.094])    0.849 (CI: [0.698, 1.0])  "
      ]
     },
     "execution_count": 9,
     "metadata": {},
     "output_type": "execute_result"
    }
   ],
   "source": [
    "comma2k19_agg = {key: compute_stats(value) for key, value in comma2k19_results.items()}\n",
    "comm = group_per(comma2k19_agg, groups)\n",
    "print(comm)\n",
    "comma2k19_df = pd.DataFrame.from_dict(comm, orient=\"index\")\n",
    "comma2k19_df.index = index\n",
    "comma2k19_df.columns = columns\n",
    "comma2k19_df"
   ]
  },
  {
   "cell_type": "code",
   "execution_count": 10,
   "metadata": {},
   "outputs": [],
   "source": [
    "names = [\"feb18\", \"florian\", \"may16\"]\n",
    "for i in range(3):\n",
    "    comma = {key: round(value[i], 3) for key, value in comma2k19_results.items()}\n",
    "    comma_grouped = group_per(comma, groups)\n",
    "    comma_df = pd.DataFrame.from_dict(comma_grouped, orient=\"index\")\n",
    "    comma_df.index = index\n",
    "    comma_df.columns = columns\n",
    "    comma_df[eds + aps].to_csv(f\"comma2k19_{names[i]}.csv\")"
   ]
  },
  {
   "cell_type": "code",
   "execution_count": 11,
   "metadata": {},
   "outputs": [],
   "source": [
    "comma2k19_ap = comma2k19_df[[\"AP@0.5\", \"AP@1\", \"AP@2\"]]\n",
    "comma2k19_ed = comma2k19_df[[\"ED\", \"ED x\", \"ED y\"]]"
   ]
  },
  {
   "cell_type": "code",
   "execution_count": 12,
   "metadata": {},
   "outputs": [],
   "source": [
    "from datetime import datetime\n",
    "\n",
    "\n",
    "# thistime = datetime.now().strftime(\"%m%d%H%M\")\n",
    "comma2k19_ap.to_csv(f\"comma2k19_ap.csv\")\n",
    "comma2k19_ed.to_csv(f\"comma2k19_ed.csv\")"
   ]
  },
  {
   "cell_type": "code",
   "execution_count": 13,
   "metadata": {},
   "outputs": [],
   "source": [
    "carla1 = {key: value[0] for key, value in carla_results.items()}\n",
    "carla1_grouped = group_per(carla1, groups)\n",
    "carla2 = {key: value[1] for key, value in carla_results.items()}\n",
    "carla2_grouped = group_per(carla2, groups)\n",
    "\n",
    "carla1_df = pd.DataFrame.from_dict(carla1_grouped, orient=\"index\", )\n",
    "carla1_df.index = index\n",
    "carla1_df.columns = columns\n",
    "carla2_df = pd.DataFrame.from_dict(carla2_grouped, orient=\"index\")\n",
    "carla2_df.index = index\n",
    "carla2_df.columns = columns"
   ]
  },
  {
   "cell_type": "code",
   "execution_count": 14,
   "metadata": {},
   "outputs": [],
   "source": [
    "carla1_df[eds + aps].to_csv(f\"carla1.csv\")\n",
    "carla2_df[eds + aps].to_csv(f\"carla2.csv\")"
   ]
  },
  {
   "cell_type": "code",
   "execution_count": 15,
   "metadata": {},
   "outputs": [],
   "source": [
    "carla1_df[aps].to_csv(f\"carla1_ap.csv\")\n",
    "carla1_df[eds].to_csv(f\"carla1_ed.csv\")"
   ]
  },
  {
   "cell_type": "code",
   "execution_count": 16,
   "metadata": {},
   "outputs": [],
   "source": [
    "carla2_df[aps].to_csv(f\"carla2_ap.csv\")\n",
    "carla2_df[eds].to_csv(f\"carla2_ed.csv\")"
   ]
  }
 ],
 "metadata": {
  "kernelspec": {
   "display_name": "venv",
   "language": "python",
   "name": "python3"
  },
  "language_info": {
   "codemirror_mode": {
    "name": "ipython",
    "version": 3
   },
   "file_extension": ".py",
   "mimetype": "text/x-python",
   "name": "python",
   "nbconvert_exporter": "python",
   "pygments_lexer": "ipython3",
   "version": "3.8.10"
  }
 },
 "nbformat": 4,
 "nbformat_minor": 2
}
